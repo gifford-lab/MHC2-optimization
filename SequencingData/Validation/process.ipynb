{
 "cells": [
  {
   "cell_type": "markdown",
   "metadata": {},
   "source": [
    "This script is for processing the Fasta files from PandaSeq and generating peptide lists. "
   ]
  },
  {
   "cell_type": "code",
   "execution_count": null,
   "metadata": {},
   "outputs": [],
   "source": [
    "import numpy as np\n",
    "import pandas as pd\n",
    "import csv\n",
    "import string\n",
    "import matplotlib.pyplot as plt\n",
    "import seaborn as sns\n",
    "import filecmp\n",
    "from scipy import stats\n",
    "import re\n",
    "import fnmatch"
   ]
  },
  {
   "cell_type": "code",
   "execution_count": null,
   "metadata": {},
   "outputs": [],
   "source": [
    "#import the list of DNA sequences that we ordered from Twist\n",
    "merged = pd.read_csv('all_revtrans_nocut_SUBMITTED remove flanking DNA.csv') \n",
    "merged = merged.drop(['aa'],axis=1)"
   ]
  },
  {
   "cell_type": "code",
   "execution_count": null,
   "metadata": {},
   "outputs": [],
   "source": [
    "def translate(pep_dna):\n",
    "#Translate peptide to amino acids\n",
    "    codons_aa = []\n",
    "    codons_dna = []\n",
    "    for j in range(0,len(pep_dna),3):   \n",
    "        codons_dna.append(pep_dna[j:j+3])\n",
    "    codons_aa = [codon_2_aa[x] for x in codons_dna] # translate\n",
    "    pep_aa=''.join(codons_aa) #puts letters into string\n",
    "    return pep_aa\n",
    "\n",
    "codon_2_aa = {\"TTT\":\"F\", \"TTC\":\"F\", \"TTA\":\"L\", \"TTG\":\"L\",\n",
    "    \"TCT\":\"S\", \"TCC\":\"S\", \"TCA\":\"S\", \"TCG\":\"S\",\n",
    "    \"TAT\":\"Y\", \"TAC\":\"Y\", \"TAA\":\"*\", \"TAG\":\"*\",\n",
    "    \"TGT\":\"C\", \"TGC\":\"C\", \"TGG\":\"W\", \"TGA\":\"*\",\n",
    "    \"CTT\":\"L\", \"CTC\":\"L\", \"CTA\":\"L\", \"CTG\":\"L\",\n",
    "    \"CCT\":\"P\", \"CCC\":\"P\", \"CCA\":\"P\", \"CCG\":\"P\",\n",
    "    \"CAT\":\"H\", \"CAC\":\"H\", \"CAA\":\"Q\", \"CAG\":\"Q\",\n",
    "    \"CGT\":\"R\", \"CGC\":\"R\", \"CGA\":\"R\", \"CGG\":\"R\",\n",
    "    \"ATT\":\"I\", \"ATC\":\"I\", \"ATA\":\"I\", \"ATG\":\"M\",\n",
    "    \"ACT\":\"T\", \"ACC\":\"T\", \"ACA\":\"T\", \"ACG\":\"T\",\n",
    "    \"AAT\":\"N\", \"AAC\":\"N\", \"AAA\":\"K\", \"AAG\":\"K\",\n",
    "    \"AGT\":\"S\", \"AGC\":\"S\", \"AGA\":\"R\", \"AGG\":\"R\",\n",
    "    \"GTT\":\"V\", \"GTC\":\"V\", \"GTA\":\"V\", \"GTG\":\"V\",\n",
    "    \"GCT\":\"A\", \"GCC\":\"A\", \"GCA\":\"A\", \"GCG\":\"A\",\n",
    "    \"GAT\":\"D\", \"GAC\":\"D\", \"GAA\":\"E\", \"GAG\":\"E\",\n",
    "    \"GGT\":\"G\", \"GGC\":\"G\", \"GGA\":\"G\", \"GGG\":\"G\"}\n",
    "\n",
    "#round/allele correspondence of files\n",
    "plex_dict = {\n",
    "    '01':'R0-401',\n",
    "    '02':'R0-402',\n",
    "    '03':'R1-401',\n",
    "    '04':'R1-402',\n",
    "    '05':'R2-401',\n",
    "    '06':'R2-402',\n",
    "    '07':'R3-401',\n",
    "    '08':'R3-402',\n",
    "    '09':'R4-401',\n",
    "    '10':'R4-402'\n",
    "    }"
   ]
  },
  {
   "cell_type": "code",
   "execution_count": null,
   "metadata": {},
   "outputs": [],
   "source": [
    "#accept either 401/402 flanking sequence as null library is made with single allele\n",
    "flank5_seq = 'TATTGCTAGCGTTTTGGCAGCT'\n",
    "flank3_seq_401 = 'GGTGGATCCGGTGGCGGAGAACAAAAATTAATTAGTGAAGAAGATTTAGGCGGTCTAGAAGTTCTGTTCCAGGGGCCCGGTGGCGGGTCCGGCGGT'\n",
    "flank3_seq_402 = 'GGTGGATCCGGTGGCGGAGAACAAAAATTAATTAGTGAGGAGGACCTTGGCGGTCTAGAAGTTCTGTTCCAGGGGCCCGGTGGCGGGTCCGGCGGT'\n",
    "flank_stop_splicevar = 'TATTGCTAGCGTTTTGGCAGCTGGATAAGCTGGTGTTTAGCGCTGGTTGCTGTGAGTGCCCGGTGGATCCGGTGGCGGGTCCGGCGGT'#variant seen in Sanger sequence of library for doping into;orig peptide+linker spliced out\n",
    "\n",
    "def process(plex):\n",
    "    file_name = 'twist_1480'+plex+'_ps.fasta'\n",
    "    dna = []\n",
    "    aa = []\n",
    "\n",
    "    number_contigs = 0\n",
    "\n",
    "    with open(file_name, 'r') as read_file:  \n",
    "        for line in read_file:\n",
    "            if line[0] != '>':\n",
    "                number_contigs +=1\n",
    "                line = line.strip()\n",
    "                \n",
    "                #check if sequence contains the exact flanking region that should and remove:\n",
    "                flank5 = line.find(flank5_seq)\n",
    "                flank3_401 = line.find(flank3_seq_401) \n",
    "                flank3_402 = line.find(flank3_seq_402) \n",
    "                if flank5 != -1 and flank3_401 !=-1:\n",
    "                    trimmed = line[flank5+len(flank5_seq):flank3_401]\n",
    "                    dna.append(trimmed)\n",
    "                elif flank5 != -1 and flank3_402 !=-1:\n",
    "                    trimmed = line[flank5+len(flank5_seq):flank3_402]\n",
    "                    dna.append(trimmed)\n",
    "                elif line.find(flank_stop_splicevar) !=-1:\n",
    "                    dna.append('*splicevar')\n",
    "\n",
    "    data = pd.DataFrame({'dna':dna})\n",
    "\n",
    "    #collapse to unique sequences with counts\n",
    "    data_uniq = data['dna'].value_counts()\n",
    "    data_uniq = pd.DataFrame(data_uniq).reset_index()\n",
    "    data_uniq.columns = ['dna','count']\n",
    "    \n",
    "    print('---')\n",
    "    print('plex:',plex)\n",
    "    print(\"number of contigs:\",number_contigs)\n",
    "    print(\"number of contigs with correct flanking sequence:\", len(data))\n",
    "    print(\"number of unique contigs:\",len(data_uniq))\n",
    "\n",
    "    return data_uniq"
   ]
  },
  {
   "cell_type": "code",
   "execution_count": null,
   "metadata": {
    "scrolled": true
   },
   "outputs": [],
   "source": [
    "for plex in ['01','03','05','07','09','02','04','06','08','10']:\n",
    "    data_uniq = process(plex)\n",
    "    data_uniq = data_uniq.rename(columns={\"count\":'count_'+plex_dict[plex]})\n",
    "    merged = merged.merge(data_uniq, left_on='dna', right_on='dna', how='outer')"
   ]
  },
  {
   "cell_type": "code",
   "execution_count": null,
   "metadata": {},
   "outputs": [],
   "source": [
    "#identify peptides that match stop codon-containing NNN peptides from the library for doping into\n",
    "## pattern: \"NNNTAANNNNNNNNNTAGNNNNNNNNNNNNTGANNNNNN\"\n",
    "\n",
    "def check_doped(trimmed):\n",
    "    if len(trimmed) == 39:\n",
    "        if trimmed.find('TAA') == 3:\n",
    "            if trimmed.find('TAG') == 15:\n",
    "                if trimmed.find('TGA') == 30:\n",
    "                    return 'match'\n",
    "                else:\n",
    "                    return float('NaN')\n",
    "            else:\n",
    "                return float('NaN')\n",
    "        else:\n",
    "            return float('NaN')\n",
    "    else:\n",
    "        return float('NaN')  \n",
    "    \n",
    "dna_list = merged['dna']\n",
    "n = len(dna_list)\n",
    "doped = ['']*n\n",
    "\n",
    "for i in range(0,n):\n",
    "    doped[i] = check_doped(dna_list[i])\n",
    "\n",
    "merged['doped_match'] = doped"
   ]
  },
  {
   "cell_type": "code",
   "execution_count": null,
   "metadata": {},
   "outputs": [],
   "source": [
    "#translate DNA\n",
    "aa = []\n",
    "for dna in merged['dna']:\n",
    "    if len(dna)%3 == 0:\n",
    "        aa.append(translate(dna))\n",
    "    else:\n",
    "        aa.append('***DNA Not Mult of 3')\n",
    "merged['aa'] = aa\n",
    "    \n",
    "merged.to_csv('twist_doped.csv')"
   ]
  },
  {
   "cell_type": "code",
   "execution_count": null,
   "metadata": {},
   "outputs": [],
   "source": [
    "#filter for peptides that don't match pattern of doped library or Twist order\n",
    "print(len(merged))\n",
    "merged_filtered = merged.dropna(subset=['name', 'doped_match'], how='all')\n",
    "print(len(merged_filtered))\n",
    "merged_filtered.to_csv('twist_doped_filtered.csv')"
   ]
  },
  {
   "cell_type": "code",
   "execution_count": null,
   "metadata": {},
   "outputs": [],
   "source": []
  }
 ],
 "metadata": {
  "kernelspec": {
   "display_name": "Python 3",
   "language": "python",
   "name": "python3"
  },
  "language_info": {
   "codemirror_mode": {
    "name": "ipython",
    "version": 3
   },
   "file_extension": ".py",
   "mimetype": "text/x-python",
   "name": "python",
   "nbconvert_exporter": "python",
   "pygments_lexer": "ipython3",
   "version": "3.7.3"
  }
 },
 "nbformat": 4,
 "nbformat_minor": 2
}
